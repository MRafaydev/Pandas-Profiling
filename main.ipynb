{
 "cells": [
  {
   "cell_type": "code",
   "execution_count": 5,
   "metadata": {},
   "outputs": [],
   "source": [
    "import pandas as pd\n",
    "from pandas_profiling import ProfileReport"
   ]
  },
  {
   "cell_type": "code",
   "execution_count": 9,
   "metadata": {},
   "outputs": [
    {
     "name": "stdout",
     "output_type": "stream",
     "text": [
      "       Row ID                  Order ID Order Date  Ship Date       Ship Mode  \\\n",
      "0       40098  CA-2014-AB10015140-41954 2014-11-11 2014-11-13     First Class   \n",
      "1       26341    IN-2014-JR162107-41675 2014-02-05 2014-02-07    Second Class   \n",
      "2       25330    IN-2014-CR127307-41929 2014-10-17 2014-10-18     First Class   \n",
      "3       13524   ES-2014-KM1637548-41667 2014-01-28 2014-01-30     First Class   \n",
      "4       47221   SG-2014-RH9495111-41948 2014-11-05 2014-11-06        Same Day   \n",
      "...       ...                       ...        ...        ...             ...   \n",
      "51285   29002   IN-2015-KE1642066-42174 2015-06-19 2015-06-19        Same Day   \n",
      "51286   34337  US-2014-ZD21925140-41765 2014-05-06 2014-05-10  Standard Class   \n",
      "51287   31315  CA-2012-ZD21925140-41147 2012-08-26 2012-08-31    Second Class   \n",
      "51288    9596   MX-2013-RB1979518-41322 2013-02-17 2013-02-21  Standard Class   \n",
      "51289    6147   MX-2013-MC1810093-41416 2013-05-22 2013-05-26    Second Class   \n",
      "\n",
      "        Customer ID       Customer Name      Segment  Postal Code  \\\n",
      "0      AB-100151402       Aaron Bergman     Consumer      73120.0   \n",
      "1         JR-162107       Justin Ritter    Corporate          NaN   \n",
      "2         CR-127307        Craig Reiter     Consumer          NaN   \n",
      "3        KM-1637548    Katherine Murray  Home Office          NaN   \n",
      "4        RH-9495111         Rick Hansen     Consumer          NaN   \n",
      "...             ...                 ...          ...          ...   \n",
      "51285    KE-1642066     Katrina Edelman    Corporate          NaN   \n",
      "51286  ZD-219251408  Zuschuss Donatelli     Consumer      37421.0   \n",
      "51287  ZD-219251404  Zuschuss Donatelli     Consumer      94109.0   \n",
      "51288    RB-1979518          Ross Baird  Home Office          NaN   \n",
      "51289    MC-1810093       Mick Crebagga     Consumer          NaN   \n",
      "\n",
      "                City  ...   Product ID         Category Sub-Category  \\\n",
      "0      Oklahoma City  ...  TEC-PH-5816       Technology       Phones   \n",
      "1         Wollongong  ...  FUR-CH-5379        Furniture       Chairs   \n",
      "2           Brisbane  ...  TEC-PH-5356       Technology       Phones   \n",
      "3             Berlin  ...  TEC-PH-5267       Technology       Phones   \n",
      "4              Dakar  ...  TEC-CO-6011       Technology      Copiers   \n",
      "...              ...  ...          ...              ...          ...   \n",
      "51285           Kure  ...  OFF-FA-3072  Office Supplies    Fasteners   \n",
      "51286    Chattanooga  ...  FUR-FU-4070        Furniture  Furnishings   \n",
      "51287  San Francisco  ...  OFF-AR-5321  Office Supplies          Art   \n",
      "51288       Valinhos  ...  OFF-BI-2919  Office Supplies      Binders   \n",
      "51289       Tipitapa  ...  OFF-PA-3990  Office Supplies        Paper   \n",
      "\n",
      "                                        Product Name     Sales Quantity  \\\n",
      "0                                   Samsung Convoy 3   221.980        2   \n",
      "1          Novimex Executive Leather Armchair, Black  3709.395        9   \n",
      "2                  Nokia Smart Phone, with Caller ID  5175.171        9   \n",
      "3                     Motorola Smart Phone, Cordless  2892.510        5   \n",
      "4                     Sharp Wireless Fax, High-Speed  2832.960        8   \n",
      "...                                              ...       ...      ...   \n",
      "51285                  Advantus Thumb Tacks, 12 Pack    65.100        5   \n",
      "51286  Eldon Image Series Desk Accessories, Burgundy    16.720        5   \n",
      "51287                                     Newell 341     8.560        2   \n",
      "51288                        Acco Index Tab, Economy    13.440        2   \n",
      "51289        Eaton Computer Printout Paper, 8.5 x 11    61.380        3   \n",
      "\n",
      "      Discount    Profit  Shipping Cost  Order Priority  \n",
      "0          0.0   62.1544         40.770            High  \n",
      "1          0.1 -288.7650        923.630        Critical  \n",
      "2          0.1  919.9710        915.490          Medium  \n",
      "3          0.1  -96.5400        910.160          Medium  \n",
      "4          0.0  311.5200        903.040        Critical  \n",
      "...        ...       ...            ...             ...  \n",
      "51285      0.0    4.5000          1.010          Medium  \n",
      "51286      0.2    3.3440          1.930            High  \n",
      "51287      0.0    2.4824          1.580            High  \n",
      "51288      0.0    2.4000          1.003          Medium  \n",
      "51289      0.0    1.8000          1.002            High  \n",
      "\n",
      "[51290 rows x 24 columns]\n"
     ]
    },
    {
     "ename": "AttributeError",
     "evalue": "'NoneType' object has no attribute 'head'",
     "output_type": "error",
     "traceback": [
      "\u001b[1;31m---------------------------------------------------------------------------\u001b[0m",
      "\u001b[1;31mAttributeError\u001b[0m                            Traceback (most recent call last)",
      "\u001b[1;32m<ipython-input-9-75c5932f2737>\u001b[0m in \u001b[0;36m<module>\u001b[1;34m\u001b[0m\n\u001b[0;32m      1\u001b[0m \u001b[0mdataset\u001b[0m \u001b[1;33m=\u001b[0m \u001b[0mpd\u001b[0m\u001b[1;33m.\u001b[0m\u001b[0mread_excel\u001b[0m\u001b[1;33m(\u001b[0m\u001b[1;34m\"global_superstore_2016.xlsx\"\u001b[0m\u001b[1;33m)\u001b[0m\u001b[1;33m\u001b[0m\u001b[1;33m\u001b[0m\u001b[0m\n\u001b[1;32m----> 2\u001b[1;33m \u001b[0mprint\u001b[0m\u001b[1;33m(\u001b[0m\u001b[0mdataset\u001b[0m\u001b[1;33m)\u001b[0m\u001b[1;33m.\u001b[0m\u001b[0mhead\u001b[0m\u001b[1;33m(\u001b[0m\u001b[1;33m)\u001b[0m\u001b[1;33m\u001b[0m\u001b[1;33m\u001b[0m\u001b[0m\n\u001b[0m",
      "\u001b[1;31mAttributeError\u001b[0m: 'NoneType' object has no attribute 'head'"
     ]
    }
   ],
   "source": [
    "dataset = pd.read_excel(\"global_superstore_2016.xlsx\")\n",
    "print(dataset).head()"
   ]
  },
  {
   "cell_type": "code",
   "execution_count": 10,
   "metadata": {},
   "outputs": [
    {
     "data": {
      "application/vnd.jupyter.widget-view+json": {
       "model_id": "17a54aba9e844ab89424c769642eebeb",
       "version_major": 2,
       "version_minor": 0
      },
      "text/plain": [
       "HBox(children=(HTML(value='Summarize dataset'), FloatProgress(value=0.0, max=37.0), HTML(value='')))"
      ]
     },
     "metadata": {},
     "output_type": "display_data"
    },
    {
     "name": "stdout",
     "output_type": "stream",
     "text": [
      "\n"
     ]
    },
    {
     "data": {
      "application/vnd.jupyter.widget-view+json": {
       "model_id": "9ce00a6192a245a18087ab28d34c0e61",
       "version_major": 2,
       "version_minor": 0
      },
      "text/plain": [
       "HBox(children=(HTML(value='Generate report structure'), FloatProgress(value=0.0, max=1.0), HTML(value='')))"
      ]
     },
     "metadata": {},
     "output_type": "display_data"
    },
    {
     "name": "stdout",
     "output_type": "stream",
     "text": [
      "\n"
     ]
    },
    {
     "data": {
      "application/vnd.jupyter.widget-view+json": {
       "model_id": "f28272a2b31c43cfa554e2b2d0b507eb",
       "version_major": 2,
       "version_minor": 0
      },
      "text/plain": [
       "HBox(children=(HTML(value='Render HTML'), FloatProgress(value=0.0, max=1.0), HTML(value='')))"
      ]
     },
     "metadata": {},
     "output_type": "display_data"
    },
    {
     "name": "stdout",
     "output_type": "stream",
     "text": [
      "\n"
     ]
    },
    {
     "data": {
      "application/vnd.jupyter.widget-view+json": {
       "model_id": "9a6344b570374fa4b51d0d5fd556ac27",
       "version_major": 2,
       "version_minor": 0
      },
      "text/plain": [
       "HBox(children=(HTML(value='Export report to file'), FloatProgress(value=0.0, max=1.0), HTML(value='')))"
      ]
     },
     "metadata": {},
     "output_type": "display_data"
    },
    {
     "name": "stdout",
     "output_type": "stream",
     "text": [
      "\n"
     ]
    }
   ],
   "source": [
    "profile = ProfileReport(dataset)\n",
    "profile.to_file(\"output_file=global_sales.html\")"
   ]
  },
  {
   "cell_type": "code",
   "execution_count": null,
   "metadata": {},
   "outputs": [],
   "source": []
  }
 ],
 "metadata": {
  "kernelspec": {
   "display_name": "Python 3",
   "language": "python",
   "name": "python3"
  },
  "language_info": {
   "codemirror_mode": {
    "name": "ipython",
    "version": 3
   },
   "file_extension": ".py",
   "mimetype": "text/x-python",
   "name": "python",
   "nbconvert_exporter": "python",
   "pygments_lexer": "ipython3",
   "version": "3.8.5"
  }
 },
 "nbformat": 4,
 "nbformat_minor": 4
}
